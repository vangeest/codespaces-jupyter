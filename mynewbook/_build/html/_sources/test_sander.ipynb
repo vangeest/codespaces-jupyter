{
 "cells": [
  {
   "cell_type": "markdown",
   "id": "4ec74801-d303-4390-bbbf-e85e7bcdcc6b",
   "metadata": {},
   "source": [
    "# test door sander\n",
    "\n",
    "Hier even wat prutsen "
   ]
  },
  {
   "cell_type": "markdown",
   "id": "6d181621-05f4-41f8-8f1c-eeeae5ffe550",
   "metadata": {},
   "source": [
    "## 1 embedden youtube"
   ]
  },
  {
   "cell_type": "markdown",
   "id": "363ada3e-77dc-4623-a279-205dbe8578bc",
   "metadata": {},
   "source": [
    ":::{iframe} https://www.youtube.com/embed/F3st8X0L1Ys\n",
    ":width: 100%\n",
    "Get up and running with MyST in Jupyter!\n",
    ":::"
   ]
  },
  {
   "cell_type": "markdown",
   "id": "9bf0e024-8678-46a7-a050-bff49304bb4a",
   "metadata": {},
   "source": [
    "## 2 execute code"
   ]
  },
  {
   "cell_type": "code",
   "execution_count": 2,
   "id": "877f68c7-f0eb-496c-a56c-51273f9dfe64",
   "metadata": {},
   "outputs": [
    {
     "name": "stdout",
     "output_type": "stream",
     "text": [
      "12\n"
     ]
    }
   ],
   "source": [
    "print (5+7)"
   ]
  },
  {
   "cell_type": "markdown",
   "id": "b045890c-b516-46a1-9f1e-45e80cbc564a",
   "metadata": {},
   "source": [
    "## 3 hide code"
   ]
  },
  {
   "cell_type": "code",
   "execution_count": 3,
   "id": "000ecb3f-4f5a-4e91-928b-62645f05d2da",
   "metadata": {
    "tags": [
     "hidden",
     "hide",
     "input",
     "hide-input"
    ]
   },
   "outputs": [
    {
     "name": "stdout",
     "output_type": "stream",
     "text": [
      "7\n"
     ]
    }
   ],
   "source": [
    "print (3+4)"
   ]
  },
  {
   "cell_type": "markdown",
   "id": "e486231c-7c84-4d18-b3b8-0bd47fda9d8c",
   "metadata": {},
   "source": [
    "## 4 ..."
   ]
  }
 ],
 "metadata": {
  "kernelspec": {
   "display_name": "Python 3 (ipykernel)",
   "language": "python",
   "name": "python3"
  },
  "language_info": {
   "codemirror_mode": {
    "name": "ipython",
    "version": 3
   },
   "file_extension": ".py",
   "mimetype": "text/x-python",
   "name": "python",
   "nbconvert_exporter": "python",
   "pygments_lexer": "ipython3",
   "version": "3.9.7"
  }
 },
 "nbformat": 4,
 "nbformat_minor": 5
}
